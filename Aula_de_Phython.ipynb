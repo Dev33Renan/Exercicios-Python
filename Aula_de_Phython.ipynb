{
  "nbformat": 4,
  "nbformat_minor": 0,
  "metadata": {
    "colab": {
      "name": "Aula de Phython.ipynb",
      "provenance": [],
      "collapsed_sections": [],
      "authorship_tag": "ABX9TyOIvyvt+Q803r1bH1IGxdnz",
      "include_colab_link": true
    },
    "kernelspec": {
      "name": "python3",
      "display_name": "Python 3"
    },
    "language_info": {
      "name": "python"
    }
  },
  "cells": [
    {
      "cell_type": "markdown",
      "metadata": {
        "id": "view-in-github",
        "colab_type": "text"
      },
      "source": [
        "<a href=\"https://colab.research.google.com/github/Dev33Renan/Exercicios-Python/blob/main/Aula_de_Phython.ipynb\" target=\"_parent\"><img src=\"https://colab.research.google.com/assets/colab-badge.svg\" alt=\"Open In Colab\"/></a>"
      ]
    },
    {
      "cell_type": "code",
      "metadata": {
        "colab": {
          "base_uri": "https://localhost:8080/"
        },
        "id": "TOuijg7xFH9H",
        "outputId": "48899638-5eeb-4026-d952-ed35a77c466c"
      },
      "source": [
        "print(\"Ola Mundo\") # Parametros ficam dentro de parenteses. \n",
        "# Funcão print exibe na tela a string informada nos parenteses.\n",
        "# String é um conjunto de caracteres."
      ],
      "execution_count": null,
      "outputs": [
        {
          "output_type": "stream",
          "text": [
            "Ola Mundo\n"
          ],
          "name": "stdout"
        }
      ]
    },
    {
      "cell_type": "code",
      "metadata": {
        "colab": {
          "base_uri": "https://localhost:8080/"
        },
        "id": "AjFNUVfaG3zX",
        "outputId": "b124fd6a-5dc8-465c-cabd-56eb395ae356"
      },
      "source": [
        "idade = 33\n",
        "print(idade)"
      ],
      "execution_count": null,
      "outputs": [
        {
          "output_type": "stream",
          "text": [
            "33\n"
          ],
          "name": "stdout"
        }
      ]
    },
    {
      "cell_type": "code",
      "metadata": {
        "colab": {
          "base_uri": "https://localhost:8080/"
        },
        "id": "XmXqGFw6LFWf",
        "outputId": "4eab46d6-6b88-44ef-ade1-58cd746bdf50"
      },
      "source": [
        "idade = '34'\n",
        "ano = 2021\n",
        "nasc = ano - int(idade)\n",
        "print(f'o Ano de Nascimento do Thiago é: {nasc}')"
      ],
      "execution_count": null,
      "outputs": [
        {
          "output_type": "stream",
          "text": [
            "o Ano de Nascimento do Thiago é: 1987\n"
          ],
          "name": "stdout"
        }
      ]
    },
    {
      "cell_type": "code",
      "metadata": {
        "colab": {
          "base_uri": "https://localhost:8080/"
        },
        "id": "zJyQ2q6FLydG",
        "outputId": "86c79ca4-e92f-4823-b78e-3f8c8a84c94b"
      },
      "source": [
        "print(\"Olá mundo! Esse é o meu primeiro programa\")"
      ],
      "execution_count": null,
      "outputs": [
        {
          "output_type": "stream",
          "text": [
            "Olá mundo! Esse é o meu primeiro programa\n"
          ],
          "name": "stdout"
        }
      ]
    },
    {
      "cell_type": "code",
      "metadata": {
        "id": "A8Scf7-0OGL8"
      },
      "source": [
        "nome = input('Digite seu nome:')\n",
        "end = input('Digite seu endereco:')\n",
        "cep = input('Digite seu Cep:')\n",
        "\n",
        "print (f'Nome:{nome}')\n",
        "print (f'end:{end}')\n",
        "print (f'cep:{cep}')"
      ],
      "execution_count": null,
      "outputs": []
    },
    {
      "cell_type": "code",
      "metadata": {
        "colab": {
          "base_uri": "https://localhost:8080/"
        },
        "id": "swO7Nyb9Q2oq",
        "outputId": "712c07ac-4dab-48d3-b21c-3530ba97f965"
      },
      "source": [
        "nome = input('Digite seu nome:')\n",
        "\n",
        "print(f'Olá {nome}! Seja bem vindo ao fantastico mundo da programação')"
      ],
      "execution_count": null,
      "outputs": [
        {
          "output_type": "stream",
          "text": [
            "Digite seu nome:Renan\n",
            "Olá Renan! Seja bem vindo ao fantastico mundo da programação\n"
          ],
          "name": "stdout"
        }
      ]
    },
    {
      "cell_type": "code",
      "metadata": {
        "id": "mpgMwzQvRotH"
      },
      "source": [
        ""
      ],
      "execution_count": null,
      "outputs": []
    }
  ]
}
{
  "nbformat": 4,
  "nbformat_minor": 0,
  "metadata": {
    "colab": {
      "name": "Meus Exercicios.ipynb",
      "provenance": [],
      "collapsed_sections": [],
      "authorship_tag": "ABX9TyNsRIiFm3MyZ4Xq1HbG7+6X",
      "include_colab_link": true
    },
    "kernelspec": {
      "name": "python3",
      "display_name": "Python 3"
    },
    "language_info": {
      "name": "python"
    }
  },
  "cells": [
    {
      "cell_type": "markdown",
      "metadata": {
        "id": "view-in-github",
        "colab_type": "text"
      },
      "source": [
        "<a href=\"https://colab.research.google.com/github/Dev33Renan/Exercicios-Python/blob/main/Meus_Exercicios.ipynb\" target=\"_parent\"><img src=\"https://colab.research.google.com/assets/colab-badge.svg\" alt=\"Open In Colab\"/></a>"
      ]
    },
    {
      "cell_type": "code",
      "metadata": {
        "id": "a7WYfL-B72Nz"
      },
      "source": [
        "# Exercicio 1 \n",
        "\n",
        "print(\"O primeiro programa a gente nunca esquece!\")"
      ],
      "execution_count": null,
      "outputs": []
    },
    {
      "cell_type": "code",
      "metadata": {
        "id": "IByJ3_z59ieY"
      },
      "source": [
        "#Exercico 2\n",
        "print('Renan')\n",
        "print('Rua Carius 81')\n",
        "print('23052-180 21969369789')\n"
      ],
      "execution_count": null,
      "outputs": []
    },
    {
      "cell_type": "code",
      "metadata": {
        "id": "ICIHR9vhDR79"
      },
      "source": [
        "#Exercico 3\n",
        "\n",
        "print('''\n",
        "How You Remind Me\n",
        "--Nickelback--\n",
        "Never made it as a wise man\n",
        "I couldn't cut it as a poor man stealing\n",
        "Tired of living like a blind man\n",
        "I'm sick of sight without a sense of feeling\n",
        "And this is how you remind me\n",
        "This is how you remind me\n",
        "Of what I really am\n",
        "This is how you remind me\n",
        "Of what I really am\n",
        "It's not like you to say \"Sorry\"\n",
        "I was waiting on a different story\n",
        "This time I'm mistaken\n",
        "For handing you a heart worth breaking\n",
        "And I've been wrong, I've been down\n",
        "Been to the bottom of every bottle\n",
        "These five words in my head\n",
        "Scream \"Are we having fun yet?\"\n",
        "Yeah, yeah, yeah, no, no\n",
        "Yeah, yeah, yeah, no, no\n",
        "It's not like you didn't know that\n",
        "I said, \"I love you, \" and I swear, I still do\n",
        "And it must have been so bad\n",
        "'Cause living with me must have damn near killed you\n",
        "And this is how you remind me… ''')"
      ],
      "execution_count": null,
      "outputs": []
    },
    {
      "cell_type": "code",
      "metadata": {
        "colab": {
          "base_uri": "https://localhost:8080/"
        },
        "id": "1yBeMK-EMD8I",
        "outputId": "92013a49-c674-4d0c-80b2-3107117ff5a4"
      },
      "source": [
        "# Exercicio 4\n",
        "\n",
        "print('Aluno (A) Nota')\n",
        "\n",
        "print('======== ====')\n",
        "print('Aline 9.0')\n",
        "print('Mário Dez')\n",
        "print('Sérgio 4.5')\n",
        "print('Shirley 7.0')"
      ],
      "execution_count": null,
      "outputs": [
        {
          "output_type": "stream",
          "text": [
            "Aluno (A) Nota\n",
            "======== ====\n",
            "Aline 9.0\n",
            "Mário Dez\n",
            "Sérgio 4.5\n",
            "Shirley 7.0\n"
          ],
          "name": "stdout"
        }
      ]
    },
    {
      "cell_type": "code",
      "metadata": {
        "id": "DEyhRzdyOc2b"
      },
      "source": [
        "#Exercicio 5\n",
        "\n",
        "print('Cadastro de Clientes')\n",
        "print('0 - Fim ')\n",
        "print('1 - Inclui')\n",
        "print('2 - Altera')\n",
        "print('3 - Exclui')\n",
        "print('4 - Consulta')\n",
        "input('Digite uma Opção:')\n",
        "print(' Você escolheu a opção:0')\n"
      ],
      "execution_count": null,
      "outputs": []
    },
    {
      "cell_type": "code",
      "metadata": {
        "id": "mM_nQyBmUKan"
      },
      "source": [
        "# Exercicio 6 \n",
        "import math\n",
        "vida = int(input(\" Digite a quantidade de vida do monstro (entre 10 e 50):\"))\n",
        "ataque = int(input(\"Digite o valor do ataque do jogador por turno (entre 5 e 10\"))\n",
        "print(f'O jogador irá derrotar o mostro em {math.ceil(vida/ataque)} turnos.')\n"
      ],
      "execution_count": null,
      "outputs": []
    },
    {
      "cell_type": "code",
      "metadata": {
        "id": "vcwf6cHpbm1p"
      },
      "source": [
        "#Exercicio\n",
        "\n",
        "#01\n",
        "\n",
        "\n"
      ],
      "execution_count": null,
      "outputs": []
    },
    {
      "cell_type": "code",
      "metadata": {
        "id": "AekNWsu328EP"
      },
      "source": [
        "#Exercicio 2\n",
        "\n",
        "\n"
      ],
      "execution_count": null,
      "outputs": []
    },
    {
      "cell_type": "code",
      "metadata": {
        "id": "CGWcXgys4TZJ"
      },
      "source": [
        "#Exercicio 3\n"
      ],
      "execution_count": null,
      "outputs": []
    },
    {
      "cell_type": "code",
      "metadata": {
        "id": "mLlclXUD50_B"
      },
      "source": [
        "Mini Projetos\n",
        "\n",
        "#01 - Conversor de Moedas\n",
        "\n"
      ],
      "execution_count": null,
      "outputs": []
    }
  ]
}